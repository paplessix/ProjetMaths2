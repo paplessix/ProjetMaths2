{
 "cells": [
  {
   "cell_type": "markdown",
   "metadata": {},
   "source": [
    "# Projet MAths-Info"
   ]
  },
  {
   "cell_type": "code",
   "execution_count": 8,
   "metadata": {
    "collapsed": true
   },
   "outputs": [],
   "source": [
    "import numpy as np\n",
    "import matplotlib.pyplot as plt"
   ]
  },
  {
   "cell_type": "markdown",
   "metadata": {},
   "source": [
    "### Fonctions"
   ]
  },
  {
   "cell_type": "code",
   "execution_count": 9,
   "metadata": {
    "collapsed": true
   },
   "outputs": [],
   "source": [
    "h= lambda x: 2*x + x**2\n",
    "w= lambda x: 1/x\n",
    "def f(t,x):\n",
    "    return x\n",
    "def g(T):\n",
    "    return np.exp(T) "
   ]
  },
  {
   "cell_type": "markdown",
   "metadata": {},
   "source": [
    "## Euler Explicite"
   ]
  },
  {
   "cell_type": "code",
   "execution_count": 10,
   "metadata": {
    "collapsed": true
   },
   "outputs": [],
   "source": [
    "def solve_euler_explicit(f, x0, dt):\n",
    "    t,x=[0], [x0]\n",
    "    x_j,t_j=x0,0\n",
    "    while t_j<2:\n",
    "        x_j=x_j+dt*f(t_j,x_j)\n",
    "        x.append(x_j)\n",
    "        t_j+=dt\n",
    "        t.append(t_j)\n",
    "    return t,x"
   ]
  },
  {
   "cell_type": "markdown",
   "metadata": {},
   "source": [
    "## RKO2"
   ]
  },
  {
   "cell_type": "code",
   "execution_count": 11,
   "metadata": {
    "collapsed": true
   },
   "outputs": [],
   "source": [
    "def solve_Runge_Kutta_O2(f,x0,dt):\n",
    "    t,x=[0], [x0]\n",
    "    x_j,t_j=x0,0\n",
    "    while t_j<2:\n",
    "        k1=f(t_j,x_j)\n",
    "        t_j+=dt\n",
    "        k2=f(t_j,x_j+dt*k1)\n",
    "        x_j+=dt/2*(k1+k2)\n",
    "        x.append(x_j)\n",
    "        t.append(t_j)\n",
    "    return t,x\n"
   ]
  },
  {
   "cell_type": "code",
   "execution_count": 17,
   "metadata": {
    "collapsed": true
   },
   "outputs": [],
   "source": [
    "def solve_heun(fct,x0,dt):\n",
    "    t,x=[0], [x0]\n",
    "    x_j,t_j=x0,0\n",
    "    while t_j<2:\n",
    "        k1=fct(t_j,x_j)\n",
    "        k2=fct(t_j + dt,x_j+ dt*k1)\n",
    "        t_j+=dt\n",
    "        x_j+=dt/2*(k1+k2)\n",
    "        x.append(x_j)\n",
    "        t.append(t_j)\n",
    "    return t,x"
   ]
  },
  {
   "cell_type": "code",
   "execution_count": 18,
   "metadata": {
    "collapsed": false
   },
   "outputs": [],
   "source": [
    "delta_t = []\n",
    "T=np.linspace(0,2,5)\n",
    "X=g(T)\n",
    "erreurmax_heun, erreurmax_eul  = [],[]\n",
    "for i,z in enumerate([1/n for n in range(1,20)]):   \n",
    "    t,x=solve_euler_explicit(f,1,z)\n",
    "    u,v=solve_heun(f,1,z)\n",
    "    delta_t.append(z)\n",
    "    erreurmax_eul.append( max(erreur(t,x,g)))\n",
    "    erreurmax_heun.append( max(erreur(u,v,g)))\n"
   ]
  },
  {
   "cell_type": "code",
   "execution_count": 19,
   "metadata": {
    "collapsed": true
   },
   "outputs": [],
   "source": [
    "def erreur(t,experi,fct_theor):\n",
    "    R=[]\n",
    "    for time,i in zip(t,experi) :\n",
    "        R.append(abs(i-fct_theor(time)))\n",
    "    return R"
   ]
  },
  {
   "cell_type": "code",
   "execution_count": 20,
   "metadata": {
    "collapsed": false
   },
   "outputs": [
    {
     "name": "stdout",
     "output_type": "stream",
     "text": [
      "[1.1390560989306504, 0.4161557083056504, 0.3427780760266437, 0.12680890899211583, 0.11336317261205942, 0.060183851467357385, 0.055665451960626555, 0.03497319581948588, 0.02793290769749035, 0.02282125700503812, 0.02174536477208555, 0.01817466458244965, 0.015415845431169473, 0.013240321958042145, 0.011494608715313603, 0.009175732578790452, 0.008150898539279972, 0.007288597630902949, 0.007092278797979468]\n"
     ]
    }
   ],
   "source": [
    "print(erreurmax_heun)"
   ]
  },
  {
   "cell_type": "code",
   "execution_count": null,
   "metadata": {
    "collapsed": false
   },
   "outputs": [],
   "source": [
    "plt.plot(delta_t,erreurmax_eul)\n",
    "plt.show()\n",
    "plt.plot(delta_t,erreurmax_heun)\n",
    "plt.show()"
   ]
  },
  {
   "cell_type": "markdown",
   "metadata": {
    "collapsed": true
   },
   "source": [
    "# Evaluation de l'erreur absolue locale\n",
    "On a une nouvelle fonction $x(t)$, solution du problème:\n",
    "\\left\\{\\begin{array}{l}\n",
    "{\\dot{x}=f(t, x(t))} \\\\\n",
    "{x(t_j)=x}\n",
    "\\end{array}}\\right. \n",
    "\n",
    "On évalue l'erreur: $e^{j+1}= x^j + \\int_{t_j}^{t_{j+1}}{f(s,x(s))ds} - x^{j+1} = x(t_{j+1}) - (x^j + \\Delta t_jf(t_j,x^j))$\n",
    "\n",
    "$x(t_{j+1}) = x(t_j) +\\Delta t_j f(t_j,x(t_j)) + \\frac{\\Delta t_{j}^2}{2} [\\partial_t f(t_j,x^j) + \\partial_x f(t_j,x_j) f(t_j, x_j)] + O(\\Delta t^3)   $\n",
    "\n",
    "De plus, \n",
    "$ f(t_{j+1}, x^{j+1}) = f(x^j, t_j) + \\partial_t f(t_j,x^j)\\Delta t + \\partial_x f(t_j,x_j) (x^{j+1}-x^j) +O(\\Delta t^2)$\n",
    "\n",
    "\n"
   ]
  },
  {
   "cell_type": "code",
   "execution_count": null,
   "metadata": {
    "collapsed": true
   },
   "outputs": [],
   "source": []
  },
  {
   "cell_type": "code",
   "execution_count": null,
   "metadata": {
    "collapsed": true
   },
   "outputs": [],
   "source": []
  }
 ],
 "metadata": {
  "anaconda-cloud": {},
  "kernelspec": {
   "display_name": "Python [Root]",
   "language": "python",
   "name": "Python [Root]"
  },
  "language_info": {
   "codemirror_mode": {
    "name": "ipython",
    "version": 3
   },
   "file_extension": ".py",
   "mimetype": "text/x-python",
   "name": "python",
   "nbconvert_exporter": "python",
   "pygments_lexer": "ipython3",
   "version": "3.5.2"
  }
 },
 "nbformat": 4,
 "nbformat_minor": 2
}
