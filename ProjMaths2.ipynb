{
 "cells": [
  {
   "cell_type": "markdown",
   "metadata": {},
   "source": [
    "# Projet MAths-Info"
   ]
  },
  {
   "cell_type": "code",
   "execution_count": null,
   "metadata": {},
   "outputs": [],
   "source": [
    "import numpy as np\n",
    "import matplotlib.pyplot as plt"
   ]
  },
  {
   "cell_type": "markdown",
   "metadata": {},
   "source": [
    "### Fonctions"
   ]
  },
  {
   "cell_type": "code",
   "execution_count": null,
   "metadata": {},
   "outputs": [],
   "source": [
    "h= lambda x: 2*x + x**2\n",
    "w= lambda x: 1/x\n",
    "def f(t,x):\n",
    "    return x\n",
    "def g(T):\n",
    "    return np.exp(T) "
   ]
  },
  {
   "cell_type": "markdown",
   "metadata": {},
   "source": [
    "## Euler Explicite"
   ]
  },
  {
   "cell_type": "code",
   "execution_count": null,
   "metadata": {},
   "outputs": [],
   "source": [
    "def solve_euler_explicit(f, x0, dt):\n",
    "    t,x=[0], [x0]\n",
    "    x_j,t_j=x0,0\n",
    "    while t_j<2:\n",
    "        x_j=x_j+dt*f(t_j,x_j)\n",
    "        x.append(x_j)\n",
    "        t_j+=dt\n",
    "        t.append(t_j)\n",
    "    return t,x"
   ]
  },
  {
   "cell_type": "markdown",
   "metadata": {},
   "source": [
    "## RKO2"
   ]
  },
  {
   "cell_type": "code",
   "execution_count": null,
   "metadata": {},
   "outputs": [],
   "source": [
    "def solve_Runge_Kutta_O2(f,x0,dt):\n",
    "    t,x=[0], [x0]\n",
    "    x_j,t_j=x0,0\n",
    "    while t_j<2:\n",
    "        k1=f(t_j,x_j)\n",
    "        t_j+=dt\n",
    "        k2=f(t_j,x_j+dt*k1)\n",
    "        x_j+=dt/2*(k1+k2)\n",
    "        x.append(x_j)\n",
    "        t.append(t_j)\n",
    "    return t,x\n"
   ]
  },
  {
   "cell_type": "code",
   "execution_count": null,
   "metadata": {},
   "outputs": [],
   "source": [
    "def solve_heun(fct,x0,dt):\n",
    "    t,x=[0], [x0]\n",
    "    x_j,t_j=x0,0\n",
    "    while t_j<2:\n",
    "        k1=fct(t_j,x_j)\n",
    "        k2=fct(t_j + dt,x_j+ dt*k1)\n",
    "        t_j+=dt\n",
    "        x_j+=dt/2*(k1+k2)\n",
    "        x.append(x_j)\n",
    "        t.append(t_j)\n",
    "    return t,x"
   ]
  },
  {
   "cell_type": "code",
   "execution_count": null,
   "metadata": {},
   "outputs": [],
   "source": [
    "delta_t = []\n",
    "T=np.linspace(0,2,5)\n",
    "X=g(T)\n",
    "erreurmax_heun, erreurmax_eul  = [],[]\n",
    "for i,z in enumerate([1/n for n in range(1,20)]):   \n",
    "    t,x=solve_euler_explicit(f,1,z)\n",
    "    u,v=solve_heun(f,1,z)\n",
    "    delta_t.append(z)\n",
    "    erreurmax_eul.append( max(erreur(t,x,g)))\n",
    "    erreurmax_heun.append( max(erreur(u,v,g)))\n"
   ]
  },
  {
   "cell_type": "code",
   "execution_count": null,
   "metadata": {},
   "outputs": [],
   "source": [
    "def erreur(t,experi,fct_theor):\n",
    "    R=[]\n",
    "    for time,i in zip(t,experi) :\n",
    "        R.append(abs(i-fct_theor(time)))\n",
    "    return R"
   ]
  },
  {
   "cell_type": "code",
   "execution_count": null,
   "metadata": {},
   "outputs": [],
   "source": [
    "print(erreurmax_heun)"
   ]
  },
  {
   "cell_type": "code",
   "execution_count": null,
   "metadata": {},
   "outputs": [],
   "source": [
    "plt.plot(delta_t,erreurmax_eul)\n",
    "plt.show()\n",
    "plt.plot(delta_t,erreurmax_heun)\n",
    "plt.show()"
   ]
  },
  {
   "cell_type": "code",
   "execution_count": null,
   "metadata": {},
   "outputs": [],
   "source": []
  },
  {
   "cell_type": "code",
   "execution_count": null,
   "metadata": {},
   "outputs": [],
   "source": []
  },
  {
   "cell_type": "code",
   "execution_count": null,
   "metadata": {},
   "outputs": [],
   "source": []
  }
 ],
 "metadata": {
  "kernelspec": {
   "display_name": "Python 3",
   "language": "python",
   "name": "python3"
  },
  "language_info": {
   "codemirror_mode": {
    "name": "ipython",
    "version": 3
   },
   "file_extension": ".py",
   "mimetype": "text/x-python",
   "name": "python",
   "nbconvert_exporter": "python",
   "pygments_lexer": "ipython3",
   "version": "3.7.3"
  }
 },
 "nbformat": 4,
 "nbformat_minor": 2
}
