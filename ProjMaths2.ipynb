{
 "cells": [
  {
   "cell_type": "markdown",
   "metadata": {},
   "source": [
    "# Projet MAths-Info"
   ]
  },
  {
   "cell_type": "code",
   "execution_count": null,
   "metadata": {},
   "outputs": [],
   "source": [
    "import numpy as np\n",
    "import matplotlib.pyplot as plt\n",
    "from mpl_toolkits.mplot3d import Axes3D\n",
    "from numpy import *\n",
    "from scipy.integrate import solve_ivp\n",
    "import matplotlib; \n",
    "from matplotlib.pyplot import *\n",
    "import seaborn as sns\n",
    "sns.set()\n",
    "%matplotlib notebook "
   ]
  },
  {
   "cell_type": "markdown",
   "metadata": {},
   "source": [
    "### Fonctions"
   ]
  },
  {
   "cell_type": "code",
   "execution_count": null,
   "metadata": {},
   "outputs": [],
   "source": []
  },
  {
   "cell_type": "code",
   "execution_count": null,
   "metadata": {},
   "outputs": [],
   "source": [
    "omega = 1\n",
    "\n",
    "def harm(tj,xy):\n",
    "    x, y = xy\n",
    "    return np.array([y, -omega*x],dtype = float64)"
   ]
  },
  {
   "cell_type": "markdown",
   "metadata": {},
   "source": [
    "## Euler Explicite"
   ]
  },
  {
   "cell_type": "code",
   "execution_count": null,
   "metadata": {},
   "outputs": [],
   "source": [
    "def solve_euler_explicit(f, x0, dt,t_f):\n",
    "    t,x=[0], [x0]\n",
    "    x_j,t_j=x0,0\n",
    "    while t_j<t_f:\n",
    "        x_j=x_j+dt*f(t_j,x_j)\n",
    "        x = vstack([x,x_j])\n",
    "        t_j+=dt\n",
    "        t.append(t_j)\n",
    "    return t,x.T"
   ]
  },
  {
   "cell_type": "markdown",
   "metadata": {},
   "source": [
    "## Méthode de Heun"
   ]
  },
  {
   "cell_type": "code",
   "execution_count": null,
   "metadata": {},
   "outputs": [],
   "source": [
    "def solve_heun(fct,x0,dt,t_f):\n",
    "    t,x=[0], [x0]\n",
    "    x_j,t_j=x0,0\n",
    "    while t_j<2:\n",
    "        k1=fct(t_j,x_j)\n",
    "        k2=fct(t_j + dt,x_j+ dt*k1)\n",
    "        t_j+=dt\n",
    "        x_j= x_j + dt*(k1+k2)/2\n",
    "        \n",
    "        x = vstack([x,x_j])\n",
    "        t.append(t_j)\n",
    "    return t,x.T"
   ]
  },
  {
   "cell_type": "code",
   "execution_count": null,
   "metadata": {},
   "outputs": [],
   "source": [
    "def erreur(t,experi,fct_theor):\n",
    "    R=[]\n",
    "    for time,i in zip(t,experi) :\n",
    "        R.append(abs(i-fct_theor(time)0))\n",
    "    return R"
   ]
  },
  {
   "cell_type": "markdown",
   "metadata": {},
   "source": [
    "## Etude de la consistance\n",
    "------------"
   ]
  },
  {
   "cell_type": "code",
   "execution_count": null,
   "metadata": {},
   "outputs": [],
   "source": [
    "delta_t = []\n",
    "T=np.linspace(0,2,5)\n",
    "g = lambda x : -1 * np.sin(x)\n",
    "X=g(T)\n",
    "\n",
    "erreurmax_heun, erreurmax_eul  = [],[]\n",
    "for i,z in enumerate([1/n for n in range(1,50)]):   \n",
    "    t,x=solve_euler_explicit(harm,np.array([-1,0]),z,3)\n",
    "    u,v=solve_heun(harm,np.array([-1,0]),z,3)\n",
    "    delta_t.append(z)\n",
    "    erreurmax_eul.append(max(erreur(t,x[0],g)))\n",
    "    erreurmax_heun.append(max(erreur(u,v[0],g)))\n",
    "\n"
   ]
  },
  {
   "cell_type": "code",
   "execution_count": null,
   "metadata": {},
   "outputs": [],
   "source": [
    "plt.plot(delta_t,erreurmax_eul)\n",
    "plt.title(\"Méthode d'Euler - Consistance d'orde 1\")\n",
    "plt.show()\n",
    "\n",
    "plt.plot(delta_t,erreurmax_heun)\n",
    "plt.title(\"Méthode de Heun - consistance d'ordre 2\")\n",
    "plt.show()"
   ]
  },
  {
   "cell_type": "markdown",
   "metadata": {},
   "source": [
    "# Evaluation de l'erreur (absolue) locale\n",
    "---------"
   ]
  },
  {
   "cell_type": "markdown",
   "metadata": {},
   "source": [
    "On construit une nouvelle fonction $x(t)$, qui est solution du problème $\\begin{array}{r c 1} =f(t,x(t) // x(t_j)=x^j \\end{array}.$\n"
   ]
  },
  {
   "cell_type": "markdown",
   "metadata": {},
   "source": [
    "## Evaluation de l'erreur absolue locale\n",
    "On a une nouvelle fonction $x(t)$, solution du problème:\n",
    "\\begin{array}{l}\n",
    "{\\dot{x}=f(t, x(t))} \\\\\n",
    "{x(t_j)=x^j}\n",
    "\\end{array} \n",
    "\n",
    "On évalue l'erreur, avec un schéma d'Euler explicite: $e^{j+1}= x^j + \\int_{t_j}^{t_{j+1}}{f(s,x(s))ds} - x^{j+1} = x(t_{j+1}) - (x^j + \\Delta t_jf(t_j,x^j))$\n",
    "\n",
    "En appliquant la formule de Taylor-Lagrange à la fonction x(t), on obtient:  \n",
    "\n",
    "<center>$x(t_{j+1}) = x(t_j) +\\Delta t_j f(t_j,x(t_j)) + \\frac{\\Delta t_{j}^2}{2} [\\partial_t f(t_j,x^j) + \\partial_x f(t_j,x_j) f(t_j, x_j)] + O(\\Delta t^3)$ <center>\n",
    "\n",
    "De plus, puisque **f est $C^1$**, la formule de Taylor-Lagrange donne encore:\n",
    "\n",
    "<center>$ f(t_{j+1}, x^{j+1}) = f(x^j, t_j) + \\partial_t f(t_j,x^j)\\Delta t + \\partial_x f(t_j,x_j) (x^{j+1}-x^j) +O(\\Delta t^2)$<center>\n",
    "\n",
    "Nous estimons l'erreur:\n",
    "<center>$\\|{e^{j+1}}\\| = \\|\\frac{\\Delta t_{j}^2}{2} [\\partial_t f(t_j,x^j) + \\partial_x f(t_j,x_j) f(t_j, x_j)]\\| + O(\\Delta t^3) $ <center>\n",
    "\n",
    "Et on trouve: \n",
    "<center>$ \\frac{\\Delta t_{j}}{2}\\|f(t_{j+1}, x^{j+1})-f(x^j, t_j)\\| = \\|\\frac{\\Delta t_{j}^2}{2} [\\partial_t f(t_j,x^j) + \\partial_x f(t_j,x_j) f(t_j, x_j)]\\| + O(\\Delta t^3) $ <center>\n",
    "\n",
    "CQFD\n",
    "\n",
    "\n"
   ]
  },
  {
   "cell_type": "markdown",
   "metadata": {},
   "source": [
    "## Pas de temps adaptatif\n",
    "\n",
    "- **Montrons que $e^{j+1}$ est  est un $O(\\Delta t_j^2) $**\\\n",
    "    Rappelons que $e_j = x^j +\\int_{t_j}^{t_{j+1}}{f(s,x(s))ds} - x^{j+1}$\\\n",
    "    On a montré dans la partie précédente qu'on pouvait approximer $e_j$ par $\\|{e^{j+1}}\\| = \\|\\frac{\\Delta t_{j}^2}{2} [\\partial_t f(t_j,x^j) + \\partial_x f(t_j,x_j) f(t_j, x_j)]\\| + o(\\Delta t^2)$\\\n",
    "    Or on travaille ici à temps finit. Donc d'après le caractère $ C^1$ de la fonction f,  $\\|{e^{j+1}}\\| \\leq \\frac{\\Delta t_{j}^2}{2} C + o(\\Delta t^2)$ \n",
    "    c'est à dire :\n",
    "    <center>$\\frac{\\|{e^{j+1}}\\|}{\\Delta t_j^2} \\leq \\frac{C}{2} + o(1) $</center>\n",
    "    Or $ \\frac{C}{2} + o(1)$ est bornée au voisinage de 0, et donc :\n",
    "    <center>$\\frac{\\|{e^{j+1}}\\|}{\\Delta t_j^2}$ est bornée au voisinage de 0</center>\n",
    "    \n",
    "    et donc :\n",
    "    <center>$e^{j+1}= O(\\Delta t_j^2)$</center>\n",
    "- **Montrons que poser $\\Delta t_{new} = \\Delta t\\sqrt{\\frac{TOL_{abs}}{||{e^{j+1}}||}}$ est une stratégie possible de pas adaptatif**\n",
    "    \n",
    "    _En effet, il est adapté de prendre un $\\Delta t_{new}$ de cette forme là car $\\Delta t_{new}$ est un $ O(1)$_ \n",
    "    - En effet $||{e^{j+1}}||$ est un $O(\\Delta t_j^2) $\\\n",
    "        C'est à dire , qu'il existe fonction B, bornéee au voisinage de 0, telle que : \n",
    "        <center>$||{e^{j+1}}||=B(\\Delta t_j).\\Delta t_j^2$</center>\n",
    "        D'où :    \n",
    "        <center>$\\Delta t_{new} =\\Delta t\\sqrt{\\frac{TOL_{abs}}{B(\\Delta t_j).\\Delta t_j^2}}$</center>\n",
    "        c-a-d \n",
    "\n",
    "        <center>$\\Delta t_{new} =_0\\sqrt{\\frac{TOL_{abs}}{B(\\Delta t_j)}}$</center>\n",
    "\n",
    "    Donc $\\Delta t_{new}$ est borné, et de plus  quand $\\Delta t_j$ est au voisinage de 0 : $\\Delta t_{new}$ ne s'annule pas.\n",
    "\n",
    "    - De plus si la condition de tolérance est respectée, alors on a $||{e^{j+1}}|| \\leq Tol_{abs}$\\\n",
    "        et donc le pas  $\\Delta t_{new}$ est supérieur à $\\Delta t_j$. Ce qui est bien en accord avec le fait que une erreur en dessous de la tolérance permet à priori d'augmenter la taille du pas, car les variations de la fonction sont faibels dans la zone d'étude locale\n",
    "    - Au contraire si la condition n'est pas respectée, alors la situation inverse survient et on réduit a taille du pas pour rentrer dans la zone de tolérance."
   ]
  },
  {
   "cell_type": "markdown",
   "metadata": {},
   "source": [
    "# Euler explicite à pas variable\n",
    "------------\n",
    "\n",
    "La fonction suivante code un schéma d'Euler explicite à pas variable : l'erreur commise est estimée à chaque itération et le pas de temps adapté de façon à garder cette erreur en dessous d'un seuil. Le pas reste compris entre dtmin et dtmax fixés par l'utilisateur et sort la solution échantillonnée à dtmax. Vous devrez comprendre le fonctionnement de cette méthode et l'illustrer dans votre projet numérique."
   ]
  },
  {
   "cell_type": "code",
   "execution_count": null,
   "metadata": {},
   "outputs": [],
   "source": [
    "def solve_ivp_euler_explicit_variable_step(f, t0, x0, t_f, dtmin = 1e-16, dtmax = 0.01, atol = 1e-6):\n",
    "    dt = dtmax/10; # initial integration step\n",
    "    ts, xs = [t0], [x0]  # storage variables\n",
    "    t = t0\n",
    "    ti = 0  # internal time keeping track of time since latest storage point : must remain below dtmax\n",
    "    x = x0\n",
    "    D=[0]\n",
    "    while ts[-1] < t_f:\n",
    "        while ti < dtmax:\n",
    "            t_next, ti_next, x_next = t + dt, ti + dt, x + dt * f(x)\n",
    "            x_back = x_next - dt * f(x_next)\n",
    "            ratio_abs_error = atol / (linalg.norm(x_back-x)/2)\n",
    "            dt = 0.9 * dt * sqrt(ratio_abs_error)\n",
    "            if dt < dtmin:\n",
    "                raise ValueError(\"Time step below minimum\")\n",
    "            elif dt > dtmax/2:\n",
    "                dt = dtmax/2\n",
    "            \n",
    "            t, ti, x = t_next, ti_next, x_next\n",
    "        dt2DT = dtmax - ti # time left to dtmax\n",
    "        D.append(-dt2DT)\n",
    "        t_next, ti_next, x_next = t + dt2DT, 0, x + dt2DT * f(x)\n",
    "        ts = vstack([ts,t_next])\n",
    "        xs = vstack([xs,x_next])\n",
    "        t, ti, x = t_next, ti_next, x_next\n",
    "    return (ts, xs.T, D)\n"
   ]
  },
  {
   "cell_type": "markdown",
   "metadata": {},
   "source": [
    "### Explication du code \n",
    "#### _initialisation_\n",
    "- dt: pas de temps utilisé à la prochaine itération correspond au $\\Delta_j$\n",
    "- t : coordonnées en temps, initialisée à $t_0$\n",
    "- $t_i$ : sous-compteur temporel, décrit l'avancement de l'itération dans le $dt_max$\n",
    "- x : valeurs de la solution\n",
    "\n",
    "#### _Process_\n",
    "\n",
    "- **Tant que** on est pas arrivé à la fin de la zone d'étude \n",
    "    - **Tant que** le sous compteur $t_i$ est encore à moins de de $dt_{max}$ du précédent point enregistré dans x\n",
    "        - on fait un pas de méthode de euler de pas dt vers les X positifs, on enregistre cette nouvelle position \n",
    "        - on fait un pas de méthode de Euler de pas dt vers les X négatifs\n",
    "        - On évalue ainsi deux fois l'erreur commise\n",
    "        - on en déduit la nouvelle formule du pas en utilisant la formule du pas adaptatif ( le 0.9 correspon à un garde fou)\n",
    "        - on vérifie bien que notre nouveau pas dt est entre les délimitations $dt_{min}$ et $dt_{max}/2$\n",
    "        - on se met dans l'état de la nouvelle position calculée 5 étapes plus haut \n",
    "    - on calcule de combien on a dépassé de $dt_{max}$, (cela correspond à `dt2DT`)\n",
    "    - on fait un pas de Euler en arrière de longueur `dt2DT` et on refixe $t_i$ à 0 on se prépare à commencer une nouvelle avance de dt_max. Ona  le droi tde considérer que ce saut en arrière est précis , car comme ce pas est plus petit que le dernier pas , l'erreur globale est nécessairement plus faible.\n",
    "    - On enregistre cette nouvelle position dans x, elle correspondra a une des coordonnées affichées en sortie, et sera le pooint de départ du nouveau passage de boucle\n",
    "   \n",
    "#### _Sortie_\n",
    "\n",
    "- On renvoit les temps et les positions des points effectivement enregistrés ( espacés de $dt_{max}$)\n"
   ]
  },
  {
   "cell_type": "code",
   "execution_count": null,
   "metadata": {},
   "outputs": [],
   "source": [
    "def f(xabc):\n",
    "    xa, xb, xc = xabc\n",
    "    return array([-0.04 * xb + 1e4 * xb * xc, 0.04 * xa - 1e4 * xb * xc - 3e7 * xb**2,  3e7 * xb**2])\n",
    "\n",
    "t0, tf, x0 = 0.0, 2.0, array([1.0, 0.0, 0.0])\n",
    "\n",
    "t, x, D = solve_ivp_euler_explicit_variable_step(f, t0, x0, tf, dtmin = 1e-20, atol = 1e-6)\n",
    "\n",
    "figure()\n",
    "plot(t, x[0])\n",
    "plot(t, x[1])\n",
    "plot(t, x[2])\n",
    "grid(True)"
   ]
  },
  {
   "cell_type": "code",
   "execution_count": null,
   "metadata": {},
   "outputs": [],
   "source": []
  },
  {
   "cell_type": "code",
   "execution_count": null,
   "metadata": {},
   "outputs": [],
   "source": [
    "plt.plot(t,D)\n",
    "plt.title('valeur de pas adaptée')"
   ]
  },
  {
   "cell_type": "markdown",
   "metadata": {},
   "source": [
    "# Possibles erreurs du code.\n",
    "\n",
    "## Dans pas de temps adaptatif:\n",
    "Selon moi, $\\Delta t_{new}$ n'est pas borné, mais est différent de 0. En effet B est bornée donc peut prendre la vakeur 0 mais pas la valeur \"infini\".\n",
    "Sinon, deux trois fautes de frappes. \n",
    "\n",
    "Pour montrer que $e^{j+1}$ est un $O(\\Delta t^2)$, je le ferais différement (après, la je suis pas trop sur de ce que je raconte). \n",
    "Si on peut approximer  $e^{j+1}$ par $\\|\\frac{\\Delta t_{j}^2}{2} [\\partial_t f(t_j,x^j) + \\partial_x f(t_j,x_j) f(t_j, x_j)]\\| + O(\\Delta t^3) $, et vu qu'on sait que Euler explicite est consistant d'ordre 1, on a :\n",
    "$ [\\partial_t f(t_j,x^j) + \\partial_x f(t_j,x_j) f(t_j, x_j)]\\|<=C\\Delta t$, et donc on  bien $\\frac{\\|e^{j+1}\\|}{\\Delta t^2}$ borné. \n",
    "\n",
    "Après y'a une couille au niveau du $O(\\Delta t^3)$ mais bon...\n",
    "Sinon c'est top!"
   ]
  },
  {
   "cell_type": "code",
   "execution_count": null,
   "metadata": {},
   "outputs": [],
   "source": []
  },
  {
   "cell_type": "code",
   "execution_count": null,
   "metadata": {},
   "outputs": [],
   "source": []
  },
  {
   "cell_type": "code",
   "execution_count": null,
   "metadata": {},
   "outputs": [],
   "source": []
  }
 ],
 "metadata": {
  "anaconda-cloud": {},
  "kernelspec": {
   "display_name": "Python 3",
   "language": "python",
   "name": "python3"
  },
  "language_info": {
   "codemirror_mode": {
    "name": "ipython",
    "version": 3
   },
   "file_extension": ".py",
   "mimetype": "text/x-python",
   "name": "python",
   "nbconvert_exporter": "python",
   "pygments_lexer": "ipython3",
   "version": "3.7.3"
  }
 },
 "nbformat": 4,
 "nbformat_minor": 2
}
